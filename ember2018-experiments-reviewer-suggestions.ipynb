{
 "cells": [
  {
   "metadata": {
    "ExecuteTime": {
     "end_time": "2025-06-30T18:04:47.648700Z",
     "start_time": "2025-06-30T18:04:47.646905Z"
    }
   },
   "cell_type": "code",
   "source": [
    "import ember\n",
    "import numpy as np\n",
    "from tensorflow.keras.layers import Dense, BatchNormalization, Input\n",
    "from keras.models import Model\n",
    "from sklearn.feature_selection import VarianceThreshold\n",
    "from sklearn.ensemble import RandomForestClassifier\n",
    "import time\n",
    "from sklearn.metrics import accuracy_score, ConfusionMatrixDisplay, confusion_matrix, cohen_kappa_score, roc_curve, \\\n",
    "    roc_auc_score, f1_score, precision_score, recall_score\n",
    "from sklearn.utils import resample\n",
    "from matplotlib import pyplot\n",
    "import scipy.stats as stats"
   ],
   "id": "bebe7b1703f9e9ae",
   "outputs": [],
   "execution_count": 26
  },
  {
   "metadata": {
    "collapsed": true,
    "ExecuteTime": {
     "end_time": "2025-06-30T17:31:09.424428Z",
     "start_time": "2025-06-30T17:31:09.373225Z"
    }
   },
   "cell_type": "code",
   "source": [
    "#UPDATE THIS PATH\n",
    "X_train, y_train, X_test, y_test = ember.read_vectorized_features(\"/Users/alexandrutodea/Downloads/ember2018_data\")"
   ],
   "id": "initial_id",
   "outputs": [
    {
     "name": "stdout",
     "output_type": "stream",
     "text": [
      "WARNING: EMBER feature version 2 were computed using lief version 0.9.0-\n",
      "WARNING:   lief version 0.16.4-10f74acf found instead. There may be slight inconsistencies\n",
      "WARNING:   in the feature calculations.\n"
     ]
    }
   ],
   "execution_count": 2
  },
  {
   "metadata": {},
   "cell_type": "markdown",
   "source": "**Finds the positions of all benign samples in the training set**\n",
   "id": "e870a0cc75d30eaa"
  },
  {
   "metadata": {
    "ExecuteTime": {
     "end_time": "2025-06-30T17:31:11.419454Z",
     "start_time": "2025-06-30T17:31:11.412489Z"
    }
   },
   "cell_type": "code",
   "source": "ben = np.where(y_train == 0)",
   "id": "2c3ece903ecd2dee",
   "outputs": [],
   "execution_count": 3
  },
  {
   "metadata": {},
   "cell_type": "markdown",
   "source": "**Finds the positions of all malicious samples in the training set**",
   "id": "f1db08fc1a67b202"
  },
  {
   "metadata": {
    "ExecuteTime": {
     "end_time": "2025-06-30T17:31:14.336842Z",
     "start_time": "2025-06-30T17:31:14.333265Z"
    }
   },
   "cell_type": "code",
   "source": "mal = np.where(y_train == 1)",
   "id": "bfb879f9c4ddd851",
   "outputs": [],
   "execution_count": 4
  },
  {
   "metadata": {},
   "cell_type": "markdown",
   "source": "**Combines all training indices (both benign and malicious)**",
   "id": "426d87b7ea4d7274"
  },
  {
   "metadata": {
    "ExecuteTime": {
     "end_time": "2025-06-30T17:31:18.154656Z",
     "start_time": "2025-06-30T17:31:18.151636Z"
    }
   },
   "cell_type": "code",
   "source": "n = np.concatenate((ben, mal), axis=1).reshape(600000)",
   "id": "1a578906993d210d",
   "outputs": [],
   "execution_count": 5
  },
  {
   "metadata": {},
   "cell_type": "markdown",
   "source": "**Random seed set by the authors of https://ieeexplore.ieee.org/abstract/document/10460035**",
   "id": "135bae0773eb5752"
  },
  {
   "metadata": {
    "ExecuteTime": {
     "end_time": "2025-06-30T17:31:20.125715Z",
     "start_time": "2025-06-30T17:31:20.123408Z"
    }
   },
   "cell_type": "code",
   "source": "np.random.seed(314)",
   "id": "374d96f63cb540e6",
   "outputs": [],
   "execution_count": 6
  },
  {
   "metadata": {},
   "cell_type": "markdown",
   "source": "**Randomly shuffles the indices in n**",
   "id": "d33d38c4435ec9da"
  },
  {
   "metadata": {
    "ExecuteTime": {
     "end_time": "2025-06-30T17:31:21.813952Z",
     "start_time": "2025-06-30T17:31:21.804093Z"
    }
   },
   "cell_type": "code",
   "source": "np.random.shuffle(n)",
   "id": "83afbfd53908a2f8",
   "outputs": [],
   "execution_count": 7
  },
  {
   "metadata": {},
   "cell_type": "markdown",
   "source": "**Picks benign and malicious samples from y_train in the shuffled order**",
   "id": "71eff2e685a3ceb1"
  },
  {
   "metadata": {
    "ExecuteTime": {
     "end_time": "2025-06-30T17:31:23.420882Z",
     "start_time": "2025-06-30T17:31:23.418041Z"
    }
   },
   "cell_type": "code",
   "source": "y_train = y_train[n]",
   "id": "a6eddf4b1fb356f3",
   "outputs": [],
   "execution_count": 8
  },
  {
   "metadata": {},
   "cell_type": "markdown",
   "source": "**Picks benign and malicious samples from X_train in the shuffled order**",
   "id": "99662a7910ea3709"
  },
  {
   "metadata": {
    "ExecuteTime": {
     "end_time": "2025-06-30T17:31:30.469701Z",
     "start_time": "2025-06-30T17:31:26.190182Z"
    }
   },
   "cell_type": "code",
   "source": "X_train = X_train[n]",
   "id": "bb1d09e27bedfd8c",
   "outputs": [],
   "execution_count": 9
  },
  {
   "metadata": {},
   "cell_type": "markdown",
   "source": "**Checks the Sizes to Ensure Everything is OK**",
   "id": "b2b89f23583aed8e"
  },
  {
   "metadata": {
    "ExecuteTime": {
     "end_time": "2025-06-30T17:31:34.088227Z",
     "start_time": "2025-06-30T17:31:34.085597Z"
    }
   },
   "cell_type": "code",
   "source": [
    "X_train_rows, X_train_columns = X_train.shape\n",
    "X_test_rows, X_test_columns = X_test.shape\n",
    "y_train_shape = y_train.shape\n",
    "y_test_shape = y_test.shape\n",
    "print(\"Number of rows in X_train: \", X_train_rows)\n",
    "print(\"Number of columns in X_train: \", X_train_columns)\n",
    "print(\"Number of rows in X_test: \", X_test_rows)\n",
    "print(\"Number of columns in X_test: \", X_test_columns)\n",
    "print(\"y_train Shape (should be 1D): \", y_train_shape)\n",
    "print(\"y_test Shape (should be 1D): \", y_test_shape)"
   ],
   "id": "c68d85ec1c169d8",
   "outputs": [
    {
     "name": "stdout",
     "output_type": "stream",
     "text": [
      "Number of rows in X_train:  600000\n",
      "Number of columns in X_train:  2381\n",
      "Number of rows in X_test:  200000\n",
      "Number of columns in X_test:  2381\n",
      "y_train Shape (should be 1D):  (600000,)\n",
      "y_test Shape (should be 1D):  (200000,)\n"
     ]
    }
   ],
   "execution_count": 10
  },
  {
   "metadata": {},
   "cell_type": "markdown",
   "source": "**Defines NN model**",
   "id": "ea7cd1c37087b6b7"
  },
  {
   "metadata": {
    "ExecuteTime": {
     "end_time": "2025-06-30T17:35:24.834619Z",
     "start_time": "2025-06-30T17:35:24.795816Z"
    }
   },
   "cell_type": "code",
   "source": [
    "modinput = Input(shape=(X_train.shape[1],), dtype='float32', name='Input')\n",
    "BNOne = BatchNormalization(name='BatchNormalization_Input')(modinput)\n",
    "denseLayerOne = Dense(512, activation='tanh', name='Dense1')(BNOne)\n",
    "denseLayerTwo = Dense(128, activation='tanh', name='Dense2')(denseLayerOne)\n",
    "BNTwo = BatchNormalization(name='BatchNormalization_Dense2')(denseLayerTwo)\n",
    "denseLayerThree = Dense(8, activation='tanh', name='Dense3')(BNTwo)\n",
    "output = Dense(2, activation='softmax', name='Out')(denseLayerThree)\n",
    "\n",
    "DLModel = Model(modinput, output, name='DLModel')\n",
    "DLModel.summary()"
   ],
   "id": "7e25bb7c939e5afc",
   "outputs": [
    {
     "data": {
      "text/plain": [
       "\u001B[1mModel: \"DLModel\"\u001B[0m\n"
      ],
      "text/html": [
       "<pre style=\"white-space:pre;overflow-x:auto;line-height:normal;font-family:Menlo,'DejaVu Sans Mono',consolas,'Courier New',monospace\"><span style=\"font-weight: bold\">Model: \"DLModel\"</span>\n",
       "</pre>\n"
      ]
     },
     "metadata": {},
     "output_type": "display_data"
    },
    {
     "data": {
      "text/plain": [
       "┏━━━━━━━━━━━━━━━━━━━━━━━━━━━━━━━━━┳━━━━━━━━━━━━━━━━━━━━━━━━┳━━━━━━━━━━━━━━━┓\n",
       "┃\u001B[1m \u001B[0m\u001B[1mLayer (type)                   \u001B[0m\u001B[1m \u001B[0m┃\u001B[1m \u001B[0m\u001B[1mOutput Shape          \u001B[0m\u001B[1m \u001B[0m┃\u001B[1m \u001B[0m\u001B[1m      Param #\u001B[0m\u001B[1m \u001B[0m┃\n",
       "┡━━━━━━━━━━━━━━━━━━━━━━━━━━━━━━━━━╇━━━━━━━━━━━━━━━━━━━━━━━━╇━━━━━━━━━━━━━━━┩\n",
       "│ Input (\u001B[38;5;33mInputLayer\u001B[0m)              │ (\u001B[38;5;45mNone\u001B[0m, \u001B[38;5;34m2381\u001B[0m)           │             \u001B[38;5;34m0\u001B[0m │\n",
       "├─────────────────────────────────┼────────────────────────┼───────────────┤\n",
       "│ BatchNormalization_Input        │ (\u001B[38;5;45mNone\u001B[0m, \u001B[38;5;34m2381\u001B[0m)           │         \u001B[38;5;34m9,524\u001B[0m │\n",
       "│ (\u001B[38;5;33mBatchNormalization\u001B[0m)            │                        │               │\n",
       "├─────────────────────────────────┼────────────────────────┼───────────────┤\n",
       "│ Dense1 (\u001B[38;5;33mDense\u001B[0m)                  │ (\u001B[38;5;45mNone\u001B[0m, \u001B[38;5;34m512\u001B[0m)            │     \u001B[38;5;34m1,219,584\u001B[0m │\n",
       "├─────────────────────────────────┼────────────────────────┼───────────────┤\n",
       "│ Dense2 (\u001B[38;5;33mDense\u001B[0m)                  │ (\u001B[38;5;45mNone\u001B[0m, \u001B[38;5;34m128\u001B[0m)            │        \u001B[38;5;34m65,664\u001B[0m │\n",
       "├─────────────────────────────────┼────────────────────────┼───────────────┤\n",
       "│ BatchNormalization_Dense2       │ (\u001B[38;5;45mNone\u001B[0m, \u001B[38;5;34m128\u001B[0m)            │           \u001B[38;5;34m512\u001B[0m │\n",
       "│ (\u001B[38;5;33mBatchNormalization\u001B[0m)            │                        │               │\n",
       "├─────────────────────────────────┼────────────────────────┼───────────────┤\n",
       "│ Dense3 (\u001B[38;5;33mDense\u001B[0m)                  │ (\u001B[38;5;45mNone\u001B[0m, \u001B[38;5;34m8\u001B[0m)              │         \u001B[38;5;34m1,032\u001B[0m │\n",
       "├─────────────────────────────────┼────────────────────────┼───────────────┤\n",
       "│ Out (\u001B[38;5;33mDense\u001B[0m)                     │ (\u001B[38;5;45mNone\u001B[0m, \u001B[38;5;34m2\u001B[0m)              │            \u001B[38;5;34m18\u001B[0m │\n",
       "└─────────────────────────────────┴────────────────────────┴───────────────┘\n"
      ],
      "text/html": [
       "<pre style=\"white-space:pre;overflow-x:auto;line-height:normal;font-family:Menlo,'DejaVu Sans Mono',consolas,'Courier New',monospace\">┏━━━━━━━━━━━━━━━━━━━━━━━━━━━━━━━━━┳━━━━━━━━━━━━━━━━━━━━━━━━┳━━━━━━━━━━━━━━━┓\n",
       "┃<span style=\"font-weight: bold\"> Layer (type)                    </span>┃<span style=\"font-weight: bold\"> Output Shape           </span>┃<span style=\"font-weight: bold\">       Param # </span>┃\n",
       "┡━━━━━━━━━━━━━━━━━━━━━━━━━━━━━━━━━╇━━━━━━━━━━━━━━━━━━━━━━━━╇━━━━━━━━━━━━━━━┩\n",
       "│ Input (<span style=\"color: #0087ff; text-decoration-color: #0087ff\">InputLayer</span>)              │ (<span style=\"color: #00d7ff; text-decoration-color: #00d7ff\">None</span>, <span style=\"color: #00af00; text-decoration-color: #00af00\">2381</span>)           │             <span style=\"color: #00af00; text-decoration-color: #00af00\">0</span> │\n",
       "├─────────────────────────────────┼────────────────────────┼───────────────┤\n",
       "│ BatchNormalization_Input        │ (<span style=\"color: #00d7ff; text-decoration-color: #00d7ff\">None</span>, <span style=\"color: #00af00; text-decoration-color: #00af00\">2381</span>)           │         <span style=\"color: #00af00; text-decoration-color: #00af00\">9,524</span> │\n",
       "│ (<span style=\"color: #0087ff; text-decoration-color: #0087ff\">BatchNormalization</span>)            │                        │               │\n",
       "├─────────────────────────────────┼────────────────────────┼───────────────┤\n",
       "│ Dense1 (<span style=\"color: #0087ff; text-decoration-color: #0087ff\">Dense</span>)                  │ (<span style=\"color: #00d7ff; text-decoration-color: #00d7ff\">None</span>, <span style=\"color: #00af00; text-decoration-color: #00af00\">512</span>)            │     <span style=\"color: #00af00; text-decoration-color: #00af00\">1,219,584</span> │\n",
       "├─────────────────────────────────┼────────────────────────┼───────────────┤\n",
       "│ Dense2 (<span style=\"color: #0087ff; text-decoration-color: #0087ff\">Dense</span>)                  │ (<span style=\"color: #00d7ff; text-decoration-color: #00d7ff\">None</span>, <span style=\"color: #00af00; text-decoration-color: #00af00\">128</span>)            │        <span style=\"color: #00af00; text-decoration-color: #00af00\">65,664</span> │\n",
       "├─────────────────────────────────┼────────────────────────┼───────────────┤\n",
       "│ BatchNormalization_Dense2       │ (<span style=\"color: #00d7ff; text-decoration-color: #00d7ff\">None</span>, <span style=\"color: #00af00; text-decoration-color: #00af00\">128</span>)            │           <span style=\"color: #00af00; text-decoration-color: #00af00\">512</span> │\n",
       "│ (<span style=\"color: #0087ff; text-decoration-color: #0087ff\">BatchNormalization</span>)            │                        │               │\n",
       "├─────────────────────────────────┼────────────────────────┼───────────────┤\n",
       "│ Dense3 (<span style=\"color: #0087ff; text-decoration-color: #0087ff\">Dense</span>)                  │ (<span style=\"color: #00d7ff; text-decoration-color: #00d7ff\">None</span>, <span style=\"color: #00af00; text-decoration-color: #00af00\">8</span>)              │         <span style=\"color: #00af00; text-decoration-color: #00af00\">1,032</span> │\n",
       "├─────────────────────────────────┼────────────────────────┼───────────────┤\n",
       "│ Out (<span style=\"color: #0087ff; text-decoration-color: #0087ff\">Dense</span>)                     │ (<span style=\"color: #00d7ff; text-decoration-color: #00d7ff\">None</span>, <span style=\"color: #00af00; text-decoration-color: #00af00\">2</span>)              │            <span style=\"color: #00af00; text-decoration-color: #00af00\">18</span> │\n",
       "└─────────────────────────────────┴────────────────────────┴───────────────┘\n",
       "</pre>\n"
      ]
     },
     "metadata": {},
     "output_type": "display_data"
    },
    {
     "data": {
      "text/plain": [
       "\u001B[1m Total params: \u001B[0m\u001B[38;5;34m1,296,334\u001B[0m (4.95 MB)\n"
      ],
      "text/html": [
       "<pre style=\"white-space:pre;overflow-x:auto;line-height:normal;font-family:Menlo,'DejaVu Sans Mono',consolas,'Courier New',monospace\"><span style=\"font-weight: bold\"> Total params: </span><span style=\"color: #00af00; text-decoration-color: #00af00\">1,296,334</span> (4.95 MB)\n",
       "</pre>\n"
      ]
     },
     "metadata": {},
     "output_type": "display_data"
    },
    {
     "data": {
      "text/plain": [
       "\u001B[1m Trainable params: \u001B[0m\u001B[38;5;34m1,291,316\u001B[0m (4.93 MB)\n"
      ],
      "text/html": [
       "<pre style=\"white-space:pre;overflow-x:auto;line-height:normal;font-family:Menlo,'DejaVu Sans Mono',consolas,'Courier New',monospace\"><span style=\"font-weight: bold\"> Trainable params: </span><span style=\"color: #00af00; text-decoration-color: #00af00\">1,291,316</span> (4.93 MB)\n",
       "</pre>\n"
      ]
     },
     "metadata": {},
     "output_type": "display_data"
    },
    {
     "data": {
      "text/plain": [
       "\u001B[1m Non-trainable params: \u001B[0m\u001B[38;5;34m5,018\u001B[0m (19.60 KB)\n"
      ],
      "text/html": [
       "<pre style=\"white-space:pre;overflow-x:auto;line-height:normal;font-family:Menlo,'DejaVu Sans Mono',consolas,'Courier New',monospace\"><span style=\"font-weight: bold\"> Non-trainable params: </span><span style=\"color: #00af00; text-decoration-color: #00af00\">5,018</span> (19.60 KB)\n",
       "</pre>\n"
      ]
     },
     "metadata": {},
     "output_type": "display_data"
    }
   ],
   "execution_count": 14
  },
  {
   "metadata": {},
   "cell_type": "markdown",
   "source": "**Loads NN Weights from the Path to Where They Were Saved in the First Notebook**",
   "id": "ea38690d6542740a"
  },
  {
   "metadata": {
    "ExecuteTime": {
     "end_time": "2025-06-30T17:35:28.559500Z",
     "start_time": "2025-06-30T17:35:28.542111Z"
    }
   },
   "cell_type": "code",
   "source": [
    "#UPDATE THIS PATH\n",
    "DLModel.load_weights(\"/Users/alexandrutodea/Developer/Connors Model Weights/DLModel9505accuracy.weights.h5\")"
   ],
   "id": "ef3a43d17ec97884",
   "outputs": [],
   "execution_count": 15
  },
  {
   "metadata": {},
   "cell_type": "markdown",
   "source": "**Dropping features with variance < 0.001**. \"No change in the features implies no conditional change on the target from which to learn.\" (Machine Learning for Tabular Data by Mark Ryan and Luca Massaron)\n",
   "id": "fd18232bcd9cea73"
  },
  {
   "metadata": {
    "ExecuteTime": {
     "end_time": "2025-06-30T17:38:57.534325Z",
     "start_time": "2025-06-30T17:38:38.059269Z"
    }
   },
   "cell_type": "code",
   "source": [
    "vt = VarianceThreshold(threshold=1e-3)\n",
    "X_train_vt = vt.fit_transform(X_train)\n",
    "X_test_vt = vt.transform(X_test)"
   ],
   "id": "918d816299dcfc58",
   "outputs": [],
   "execution_count": 17
  },
  {
   "metadata": {},
   "cell_type": "markdown",
   "source": "**Verifying that the Columns Were Dropped**",
   "id": "58296e44fd556136"
  },
  {
   "metadata": {
    "ExecuteTime": {
     "end_time": "2025-06-30T17:39:24.313793Z",
     "start_time": "2025-06-30T17:39:24.311088Z"
    }
   },
   "cell_type": "code",
   "source": [
    "print(X_train_vt.shape[1])\n",
    "print(X_test_vt.shape[1])"
   ],
   "id": "b988a4c2ade756b5",
   "outputs": [
    {
     "name": "stdout",
     "output_type": "stream",
     "text": [
      "1658\n",
      "1658\n"
     ]
    }
   ],
   "execution_count": 18
  },
  {
   "metadata": {},
   "cell_type": "markdown",
   "source": "**Trains RF Model on Variance-Filtered Dataset**",
   "id": "fa36895b44f65c43"
  },
  {
   "metadata": {
    "ExecuteTime": {
     "end_time": "2025-06-30T18:17:57.166776Z",
     "start_time": "2025-06-30T18:14:42.425730Z"
    }
   },
   "cell_type": "code",
   "source": [
    "rfm_reduced = RandomForestClassifier(n_estimators=100)  #max_depth=None, min_samples_split=2\n",
    "rfm_reduced.fit(X_train_vt, y_train)"
   ],
   "id": "82085c7af5b5197d",
   "outputs": [
    {
     "data": {
      "text/plain": [
       "RandomForestClassifier()"
      ],
      "text/html": [
       "<style>#sk-container-id-2 {\n",
       "  /* Definition of color scheme common for light and dark mode */\n",
       "  --sklearn-color-text: #000;\n",
       "  --sklearn-color-text-muted: #666;\n",
       "  --sklearn-color-line: gray;\n",
       "  /* Definition of color scheme for unfitted estimators */\n",
       "  --sklearn-color-unfitted-level-0: #fff5e6;\n",
       "  --sklearn-color-unfitted-level-1: #f6e4d2;\n",
       "  --sklearn-color-unfitted-level-2: #ffe0b3;\n",
       "  --sklearn-color-unfitted-level-3: chocolate;\n",
       "  /* Definition of color scheme for fitted estimators */\n",
       "  --sklearn-color-fitted-level-0: #f0f8ff;\n",
       "  --sklearn-color-fitted-level-1: #d4ebff;\n",
       "  --sklearn-color-fitted-level-2: #b3dbfd;\n",
       "  --sklearn-color-fitted-level-3: cornflowerblue;\n",
       "\n",
       "  /* Specific color for light theme */\n",
       "  --sklearn-color-text-on-default-background: var(--sg-text-color, var(--theme-code-foreground, var(--jp-content-font-color1, black)));\n",
       "  --sklearn-color-background: var(--sg-background-color, var(--theme-background, var(--jp-layout-color0, white)));\n",
       "  --sklearn-color-border-box: var(--sg-text-color, var(--theme-code-foreground, var(--jp-content-font-color1, black)));\n",
       "  --sklearn-color-icon: #696969;\n",
       "\n",
       "  @media (prefers-color-scheme: dark) {\n",
       "    /* Redefinition of color scheme for dark theme */\n",
       "    --sklearn-color-text-on-default-background: var(--sg-text-color, var(--theme-code-foreground, var(--jp-content-font-color1, white)));\n",
       "    --sklearn-color-background: var(--sg-background-color, var(--theme-background, var(--jp-layout-color0, #111)));\n",
       "    --sklearn-color-border-box: var(--sg-text-color, var(--theme-code-foreground, var(--jp-content-font-color1, white)));\n",
       "    --sklearn-color-icon: #878787;\n",
       "  }\n",
       "}\n",
       "\n",
       "#sk-container-id-2 {\n",
       "  color: var(--sklearn-color-text);\n",
       "}\n",
       "\n",
       "#sk-container-id-2 pre {\n",
       "  padding: 0;\n",
       "}\n",
       "\n",
       "#sk-container-id-2 input.sk-hidden--visually {\n",
       "  border: 0;\n",
       "  clip: rect(1px 1px 1px 1px);\n",
       "  clip: rect(1px, 1px, 1px, 1px);\n",
       "  height: 1px;\n",
       "  margin: -1px;\n",
       "  overflow: hidden;\n",
       "  padding: 0;\n",
       "  position: absolute;\n",
       "  width: 1px;\n",
       "}\n",
       "\n",
       "#sk-container-id-2 div.sk-dashed-wrapped {\n",
       "  border: 1px dashed var(--sklearn-color-line);\n",
       "  margin: 0 0.4em 0.5em 0.4em;\n",
       "  box-sizing: border-box;\n",
       "  padding-bottom: 0.4em;\n",
       "  background-color: var(--sklearn-color-background);\n",
       "}\n",
       "\n",
       "#sk-container-id-2 div.sk-container {\n",
       "  /* jupyter's `normalize.less` sets `[hidden] { display: none; }`\n",
       "     but bootstrap.min.css set `[hidden] { display: none !important; }`\n",
       "     so we also need the `!important` here to be able to override the\n",
       "     default hidden behavior on the sphinx rendered scikit-learn.org.\n",
       "     See: https://github.com/scikit-learn/scikit-learn/issues/21755 */\n",
       "  display: inline-block !important;\n",
       "  position: relative;\n",
       "}\n",
       "\n",
       "#sk-container-id-2 div.sk-text-repr-fallback {\n",
       "  display: none;\n",
       "}\n",
       "\n",
       "div.sk-parallel-item,\n",
       "div.sk-serial,\n",
       "div.sk-item {\n",
       "  /* draw centered vertical line to link estimators */\n",
       "  background-image: linear-gradient(var(--sklearn-color-text-on-default-background), var(--sklearn-color-text-on-default-background));\n",
       "  background-size: 2px 100%;\n",
       "  background-repeat: no-repeat;\n",
       "  background-position: center center;\n",
       "}\n",
       "\n",
       "/* Parallel-specific style estimator block */\n",
       "\n",
       "#sk-container-id-2 div.sk-parallel-item::after {\n",
       "  content: \"\";\n",
       "  width: 100%;\n",
       "  border-bottom: 2px solid var(--sklearn-color-text-on-default-background);\n",
       "  flex-grow: 1;\n",
       "}\n",
       "\n",
       "#sk-container-id-2 div.sk-parallel {\n",
       "  display: flex;\n",
       "  align-items: stretch;\n",
       "  justify-content: center;\n",
       "  background-color: var(--sklearn-color-background);\n",
       "  position: relative;\n",
       "}\n",
       "\n",
       "#sk-container-id-2 div.sk-parallel-item {\n",
       "  display: flex;\n",
       "  flex-direction: column;\n",
       "}\n",
       "\n",
       "#sk-container-id-2 div.sk-parallel-item:first-child::after {\n",
       "  align-self: flex-end;\n",
       "  width: 50%;\n",
       "}\n",
       "\n",
       "#sk-container-id-2 div.sk-parallel-item:last-child::after {\n",
       "  align-self: flex-start;\n",
       "  width: 50%;\n",
       "}\n",
       "\n",
       "#sk-container-id-2 div.sk-parallel-item:only-child::after {\n",
       "  width: 0;\n",
       "}\n",
       "\n",
       "/* Serial-specific style estimator block */\n",
       "\n",
       "#sk-container-id-2 div.sk-serial {\n",
       "  display: flex;\n",
       "  flex-direction: column;\n",
       "  align-items: center;\n",
       "  background-color: var(--sklearn-color-background);\n",
       "  padding-right: 1em;\n",
       "  padding-left: 1em;\n",
       "}\n",
       "\n",
       "\n",
       "/* Toggleable style: style used for estimator/Pipeline/ColumnTransformer box that is\n",
       "clickable and can be expanded/collapsed.\n",
       "- Pipeline and ColumnTransformer use this feature and define the default style\n",
       "- Estimators will overwrite some part of the style using the `sk-estimator` class\n",
       "*/\n",
       "\n",
       "/* Pipeline and ColumnTransformer style (default) */\n",
       "\n",
       "#sk-container-id-2 div.sk-toggleable {\n",
       "  /* Default theme specific background. It is overwritten whether we have a\n",
       "  specific estimator or a Pipeline/ColumnTransformer */\n",
       "  background-color: var(--sklearn-color-background);\n",
       "}\n",
       "\n",
       "/* Toggleable label */\n",
       "#sk-container-id-2 label.sk-toggleable__label {\n",
       "  cursor: pointer;\n",
       "  display: flex;\n",
       "  width: 100%;\n",
       "  margin-bottom: 0;\n",
       "  padding: 0.5em;\n",
       "  box-sizing: border-box;\n",
       "  text-align: center;\n",
       "  align-items: start;\n",
       "  justify-content: space-between;\n",
       "  gap: 0.5em;\n",
       "}\n",
       "\n",
       "#sk-container-id-2 label.sk-toggleable__label .caption {\n",
       "  font-size: 0.6rem;\n",
       "  font-weight: lighter;\n",
       "  color: var(--sklearn-color-text-muted);\n",
       "}\n",
       "\n",
       "#sk-container-id-2 label.sk-toggleable__label-arrow:before {\n",
       "  /* Arrow on the left of the label */\n",
       "  content: \"▸\";\n",
       "  float: left;\n",
       "  margin-right: 0.25em;\n",
       "  color: var(--sklearn-color-icon);\n",
       "}\n",
       "\n",
       "#sk-container-id-2 label.sk-toggleable__label-arrow:hover:before {\n",
       "  color: var(--sklearn-color-text);\n",
       "}\n",
       "\n",
       "/* Toggleable content - dropdown */\n",
       "\n",
       "#sk-container-id-2 div.sk-toggleable__content {\n",
       "  max-height: 0;\n",
       "  max-width: 0;\n",
       "  overflow: hidden;\n",
       "  text-align: left;\n",
       "  /* unfitted */\n",
       "  background-color: var(--sklearn-color-unfitted-level-0);\n",
       "}\n",
       "\n",
       "#sk-container-id-2 div.sk-toggleable__content.fitted {\n",
       "  /* fitted */\n",
       "  background-color: var(--sklearn-color-fitted-level-0);\n",
       "}\n",
       "\n",
       "#sk-container-id-2 div.sk-toggleable__content pre {\n",
       "  margin: 0.2em;\n",
       "  border-radius: 0.25em;\n",
       "  color: var(--sklearn-color-text);\n",
       "  /* unfitted */\n",
       "  background-color: var(--sklearn-color-unfitted-level-0);\n",
       "}\n",
       "\n",
       "#sk-container-id-2 div.sk-toggleable__content.fitted pre {\n",
       "  /* unfitted */\n",
       "  background-color: var(--sklearn-color-fitted-level-0);\n",
       "}\n",
       "\n",
       "#sk-container-id-2 input.sk-toggleable__control:checked~div.sk-toggleable__content {\n",
       "  /* Expand drop-down */\n",
       "  max-height: 200px;\n",
       "  max-width: 100%;\n",
       "  overflow: auto;\n",
       "}\n",
       "\n",
       "#sk-container-id-2 input.sk-toggleable__control:checked~label.sk-toggleable__label-arrow:before {\n",
       "  content: \"▾\";\n",
       "}\n",
       "\n",
       "/* Pipeline/ColumnTransformer-specific style */\n",
       "\n",
       "#sk-container-id-2 div.sk-label input.sk-toggleable__control:checked~label.sk-toggleable__label {\n",
       "  color: var(--sklearn-color-text);\n",
       "  background-color: var(--sklearn-color-unfitted-level-2);\n",
       "}\n",
       "\n",
       "#sk-container-id-2 div.sk-label.fitted input.sk-toggleable__control:checked~label.sk-toggleable__label {\n",
       "  background-color: var(--sklearn-color-fitted-level-2);\n",
       "}\n",
       "\n",
       "/* Estimator-specific style */\n",
       "\n",
       "/* Colorize estimator box */\n",
       "#sk-container-id-2 div.sk-estimator input.sk-toggleable__control:checked~label.sk-toggleable__label {\n",
       "  /* unfitted */\n",
       "  background-color: var(--sklearn-color-unfitted-level-2);\n",
       "}\n",
       "\n",
       "#sk-container-id-2 div.sk-estimator.fitted input.sk-toggleable__control:checked~label.sk-toggleable__label {\n",
       "  /* fitted */\n",
       "  background-color: var(--sklearn-color-fitted-level-2);\n",
       "}\n",
       "\n",
       "#sk-container-id-2 div.sk-label label.sk-toggleable__label,\n",
       "#sk-container-id-2 div.sk-label label {\n",
       "  /* The background is the default theme color */\n",
       "  color: var(--sklearn-color-text-on-default-background);\n",
       "}\n",
       "\n",
       "/* On hover, darken the color of the background */\n",
       "#sk-container-id-2 div.sk-label:hover label.sk-toggleable__label {\n",
       "  color: var(--sklearn-color-text);\n",
       "  background-color: var(--sklearn-color-unfitted-level-2);\n",
       "}\n",
       "\n",
       "/* Label box, darken color on hover, fitted */\n",
       "#sk-container-id-2 div.sk-label.fitted:hover label.sk-toggleable__label.fitted {\n",
       "  color: var(--sklearn-color-text);\n",
       "  background-color: var(--sklearn-color-fitted-level-2);\n",
       "}\n",
       "\n",
       "/* Estimator label */\n",
       "\n",
       "#sk-container-id-2 div.sk-label label {\n",
       "  font-family: monospace;\n",
       "  font-weight: bold;\n",
       "  display: inline-block;\n",
       "  line-height: 1.2em;\n",
       "}\n",
       "\n",
       "#sk-container-id-2 div.sk-label-container {\n",
       "  text-align: center;\n",
       "}\n",
       "\n",
       "/* Estimator-specific */\n",
       "#sk-container-id-2 div.sk-estimator {\n",
       "  font-family: monospace;\n",
       "  border: 1px dotted var(--sklearn-color-border-box);\n",
       "  border-radius: 0.25em;\n",
       "  box-sizing: border-box;\n",
       "  margin-bottom: 0.5em;\n",
       "  /* unfitted */\n",
       "  background-color: var(--sklearn-color-unfitted-level-0);\n",
       "}\n",
       "\n",
       "#sk-container-id-2 div.sk-estimator.fitted {\n",
       "  /* fitted */\n",
       "  background-color: var(--sklearn-color-fitted-level-0);\n",
       "}\n",
       "\n",
       "/* on hover */\n",
       "#sk-container-id-2 div.sk-estimator:hover {\n",
       "  /* unfitted */\n",
       "  background-color: var(--sklearn-color-unfitted-level-2);\n",
       "}\n",
       "\n",
       "#sk-container-id-2 div.sk-estimator.fitted:hover {\n",
       "  /* fitted */\n",
       "  background-color: var(--sklearn-color-fitted-level-2);\n",
       "}\n",
       "\n",
       "/* Specification for estimator info (e.g. \"i\" and \"?\") */\n",
       "\n",
       "/* Common style for \"i\" and \"?\" */\n",
       "\n",
       ".sk-estimator-doc-link,\n",
       "a:link.sk-estimator-doc-link,\n",
       "a:visited.sk-estimator-doc-link {\n",
       "  float: right;\n",
       "  font-size: smaller;\n",
       "  line-height: 1em;\n",
       "  font-family: monospace;\n",
       "  background-color: var(--sklearn-color-background);\n",
       "  border-radius: 1em;\n",
       "  height: 1em;\n",
       "  width: 1em;\n",
       "  text-decoration: none !important;\n",
       "  margin-left: 0.5em;\n",
       "  text-align: center;\n",
       "  /* unfitted */\n",
       "  border: var(--sklearn-color-unfitted-level-1) 1pt solid;\n",
       "  color: var(--sklearn-color-unfitted-level-1);\n",
       "}\n",
       "\n",
       ".sk-estimator-doc-link.fitted,\n",
       "a:link.sk-estimator-doc-link.fitted,\n",
       "a:visited.sk-estimator-doc-link.fitted {\n",
       "  /* fitted */\n",
       "  border: var(--sklearn-color-fitted-level-1) 1pt solid;\n",
       "  color: var(--sklearn-color-fitted-level-1);\n",
       "}\n",
       "\n",
       "/* On hover */\n",
       "div.sk-estimator:hover .sk-estimator-doc-link:hover,\n",
       ".sk-estimator-doc-link:hover,\n",
       "div.sk-label-container:hover .sk-estimator-doc-link:hover,\n",
       ".sk-estimator-doc-link:hover {\n",
       "  /* unfitted */\n",
       "  background-color: var(--sklearn-color-unfitted-level-3);\n",
       "  color: var(--sklearn-color-background);\n",
       "  text-decoration: none;\n",
       "}\n",
       "\n",
       "div.sk-estimator.fitted:hover .sk-estimator-doc-link.fitted:hover,\n",
       ".sk-estimator-doc-link.fitted:hover,\n",
       "div.sk-label-container:hover .sk-estimator-doc-link.fitted:hover,\n",
       ".sk-estimator-doc-link.fitted:hover {\n",
       "  /* fitted */\n",
       "  background-color: var(--sklearn-color-fitted-level-3);\n",
       "  color: var(--sklearn-color-background);\n",
       "  text-decoration: none;\n",
       "}\n",
       "\n",
       "/* Span, style for the box shown on hovering the info icon */\n",
       ".sk-estimator-doc-link span {\n",
       "  display: none;\n",
       "  z-index: 9999;\n",
       "  position: relative;\n",
       "  font-weight: normal;\n",
       "  right: .2ex;\n",
       "  padding: .5ex;\n",
       "  margin: .5ex;\n",
       "  width: min-content;\n",
       "  min-width: 20ex;\n",
       "  max-width: 50ex;\n",
       "  color: var(--sklearn-color-text);\n",
       "  box-shadow: 2pt 2pt 4pt #999;\n",
       "  /* unfitted */\n",
       "  background: var(--sklearn-color-unfitted-level-0);\n",
       "  border: .5pt solid var(--sklearn-color-unfitted-level-3);\n",
       "}\n",
       "\n",
       ".sk-estimator-doc-link.fitted span {\n",
       "  /* fitted */\n",
       "  background: var(--sklearn-color-fitted-level-0);\n",
       "  border: var(--sklearn-color-fitted-level-3);\n",
       "}\n",
       "\n",
       ".sk-estimator-doc-link:hover span {\n",
       "  display: block;\n",
       "}\n",
       "\n",
       "/* \"?\"-specific style due to the `<a>` HTML tag */\n",
       "\n",
       "#sk-container-id-2 a.estimator_doc_link {\n",
       "  float: right;\n",
       "  font-size: 1rem;\n",
       "  line-height: 1em;\n",
       "  font-family: monospace;\n",
       "  background-color: var(--sklearn-color-background);\n",
       "  border-radius: 1rem;\n",
       "  height: 1rem;\n",
       "  width: 1rem;\n",
       "  text-decoration: none;\n",
       "  /* unfitted */\n",
       "  color: var(--sklearn-color-unfitted-level-1);\n",
       "  border: var(--sklearn-color-unfitted-level-1) 1pt solid;\n",
       "}\n",
       "\n",
       "#sk-container-id-2 a.estimator_doc_link.fitted {\n",
       "  /* fitted */\n",
       "  border: var(--sklearn-color-fitted-level-1) 1pt solid;\n",
       "  color: var(--sklearn-color-fitted-level-1);\n",
       "}\n",
       "\n",
       "/* On hover */\n",
       "#sk-container-id-2 a.estimator_doc_link:hover {\n",
       "  /* unfitted */\n",
       "  background-color: var(--sklearn-color-unfitted-level-3);\n",
       "  color: var(--sklearn-color-background);\n",
       "  text-decoration: none;\n",
       "}\n",
       "\n",
       "#sk-container-id-2 a.estimator_doc_link.fitted:hover {\n",
       "  /* fitted */\n",
       "  background-color: var(--sklearn-color-fitted-level-3);\n",
       "}\n",
       "</style><div id=\"sk-container-id-2\" class=\"sk-top-container\"><div class=\"sk-text-repr-fallback\"><pre>RandomForestClassifier()</pre><b>In a Jupyter environment, please rerun this cell to show the HTML representation or trust the notebook. <br />On GitHub, the HTML representation is unable to render, please try loading this page with nbviewer.org.</b></div><div class=\"sk-container\" hidden><div class=\"sk-item\"><div class=\"sk-estimator fitted sk-toggleable\"><input class=\"sk-toggleable__control sk-hidden--visually\" id=\"sk-estimator-id-2\" type=\"checkbox\" checked><label for=\"sk-estimator-id-2\" class=\"sk-toggleable__label fitted sk-toggleable__label-arrow\"><div><div>RandomForestClassifier</div></div><div><a class=\"sk-estimator-doc-link fitted\" rel=\"noreferrer\" target=\"_blank\" href=\"https://scikit-learn.org/1.6/modules/generated/sklearn.ensemble.RandomForestClassifier.html\">?<span>Documentation for RandomForestClassifier</span></a><span class=\"sk-estimator-doc-link fitted\">i<span>Fitted</span></span></div></label><div class=\"sk-toggleable__content fitted\"><pre>RandomForestClassifier()</pre></div> </div></div></div></div>"
      ]
     },
     "execution_count": 32,
     "metadata": {},
     "output_type": "execute_result"
    }
   ],
   "execution_count": 32
  },
  {
   "metadata": {},
   "cell_type": "markdown",
   "source": "**Make Predictions on Variance-Filtered Testing Set**",
   "id": "88906a2b34e55b33"
  },
  {
   "metadata": {
    "ExecuteTime": {
     "end_time": "2025-06-30T18:18:04.011677Z",
     "start_time": "2025-06-30T18:18:00.534852Z"
    }
   },
   "cell_type": "code",
   "source": "rfm_reduced_ypred = rfm_reduced.predict(X_test_vt)",
   "id": "cee4fcf80f679c7d",
   "outputs": [],
   "execution_count": 33
  },
  {
   "metadata": {},
   "cell_type": "markdown",
   "source": "**Part VII: Computing Confidence Intervals for the best Model: The RF Trained on the Variance-Filtered Dataset**\n",
   "id": "b6493cf53d1a3b69"
  },
  {
   "metadata": {
    "ExecuteTime": {
     "end_time": "2025-06-30T18:07:11.352082Z",
     "start_time": "2025-06-30T18:06:58.430704Z"
    }
   },
   "cell_type": "code",
   "source": [
    "n = 5000 #the number of bootstrap testing sets to generate\n",
    "accuracy_scores = [] #model classification accuracies on each of the bootstrap testing sets\n",
    "test_sample_positions = np.arange(len(y_test))\n",
    "\n",
    "for i in range(n):\n",
    "    idx = resample(test_sample_positions, replace=True) #draw n testing set positions with replacement\n",
    "    accuracy_scores.append(accuracy_score(y_test[idx], rfm_reduced_ypred[idx])) #compute the accuracy comparing the true labels with the predicted labels for the testing samples at the drawn positions\n",
    "\n",
    "ci_low, ci_high = np.percentile(accuracy_scores, [2.5, 97.5]) #compute the 95% confidence interval\n",
    "mean_accuracy = np.mean(accuracy_scores)\n",
    "print(f\"accuracy = {mean_accuracy :.3f}  (95 % CI: {ci_low:.3f} – {ci_high:.3f})\")"
   ],
   "id": "9c1f2d5a2c1ba9e0",
   "outputs": [
    {
     "name": "stdout",
     "output_type": "stream",
     "text": [
      "accuracy = 0.967  (95 % CI: 0.966 – 0.968)\n"
     ]
    }
   ],
   "execution_count": 28
  },
  {
   "metadata": {
    "ExecuteTime": {
     "end_time": "2025-06-30T18:07:21.527165Z",
     "start_time": "2025-06-30T18:07:21.420955Z"
    }
   },
   "cell_type": "code",
   "source": [
    "pyplot.hist(accuracy_scores)\n",
    "\n",
    "# add vertical lines at 0.966 and 0.968\n",
    "pyplot.axvline(x=0.966, color='orange', label='2.5th')\n",
    "pyplot.axvline(x=0.967, color='limegreen', label='Mean')\n",
    "pyplot.axvline(x=0.968, color='red', label='97.5th')\n",
    "\n",
    "# optional: add a legend\n",
    "pyplot.legend()\n",
    "\n",
    "pyplot.show()"
   ],
   "id": "d5cbcc040de004bd",
   "outputs": [
    {
     "data": {
      "text/plain": [
       "<Figure size 640x480 with 1 Axes>"
      ],
      "image/png": "[encoded data removed]"
     },
     "metadata": {},
     "output_type": "display_data"
    }
   ],
   "execution_count": 29
  },
  {
   "metadata": {},
   "cell_type": "markdown",
   "source": "**Part VIII: Wilcoxon Test**",
   "id": "3193d53da065907f"
  },
  {
   "metadata": {
    "ExecuteTime": {
     "end_time": "2025-06-30T18:10:50.993469Z",
     "start_time": "2025-06-30T18:10:50.988861Z"
    }
   },
   "cell_type": "code",
   "source": [
    "#These accuracies were obtained by running the cells in parts I and III 10 times\n",
    "accuraciesDLModel = [0.9505, 0.9511, 0.9519, 0.9511, 0.9502, 0.9512, 0.9511, 0.9510, 0.9493, 0.9469]\n",
    "accuraciesRFVarReduced = [0.9671, 0.9676, 0.9686, 0.9690, 0.9685, 0.9685, 0.9681, 0.9683, 0.9686, 0.9688]\n",
    "\n",
    "accuraciesDLModelSorted = sorted(accuraciesDLModel)\n",
    "accuraciesRFVarReducedSorted = sorted(accuraciesRFVarReduced)\n",
    "\n",
    "print(\"accuraciesDLModel length: \", len(accuraciesDLModel), \" accuracy range: \", accuraciesDLModelSorted[0], \"-\", accuraciesDLModelSorted[9])\n",
    "print(\"accuraciesRFVarReduced length: \", len(accuraciesRFVarReduced), \" accuracy range: \", accuraciesRFVarReducedSorted[0], \"-\", accuraciesRFVarReducedSorted[9])\n",
    "\n",
    "#Null hypothesis: the tested algorithms have similar performance\n",
    "#p-values <= 0.05 --> null hypothesis is rejected\n",
    "\n",
    "stat, p_value = stats.wilcoxon(accuraciesDLModel, accuraciesRFVarReduced)\n",
    "\n",
    "print(\"p-value: \", p_value)\n",
    "\n",
    "if p_value <= 0.05:\n",
    "    print(\"There were significant differences between the models.\")\n",
    "else:\n",
    "    print(\"There were no significant differences between the models.\")"
   ],
   "id": "4faeb744cacceb9d",
   "outputs": [
    {
     "name": "stdout",
     "output_type": "stream",
     "text": [
      "accuraciesDLModel length:  10  accuracy range:  0.9469 - 0.9519\n",
      "accuraciesRFVarReduced length:  10  accuracy range:  0.9671 - 0.969\n",
      "p-value:  0.001953125\n",
      "There were significant differences between the models.\n"
     ]
    }
   ],
   "execution_count": 30
  },
  {
   "metadata": {},
   "cell_type": "markdown",
   "source": "**Part IX: Comparing ROC AUC**",
   "id": "56be13bac412446b"
  },
  {
   "metadata": {
    "ExecuteTime": {
     "end_time": "2025-06-30T18:18:37.294403Z",
     "start_time": "2025-06-30T18:18:28.739377Z"
    }
   },
   "cell_type": "code",
   "source": [
    "from sklearn.metrics import roc_auc_score, roc_curve\n",
    "import matplotlib.pyplot as plt\n",
    "\n",
    "y_scores_rfm_reduced = rfm_reduced.predict_proba(X_test_vt)[:, 1]\n",
    "probs_DL = DLModel.predict(X_test)          # shape (n_samples, n_classes)\n",
    "y_scores_DL = probs_DL[:, 1]\n",
    "\n",
    "# Compute AUC\n",
    "auc1 = roc_auc_score(y_test, y_scores_rfm_reduced)\n",
    "auc2 = roc_auc_score(y_test, y_scores_DL)\n",
    "\n",
    "print(f\"Variance-Filtered RF AUC: {auc1:.4f}\")\n",
    "print(f\"Connors and Sarkar NN AUC: {auc2:.4f}\")\n",
    "\n",
    "# Plot ROC curves\n",
    "fpr1, tpr1, _ = roc_curve(y_test, y_scores_rfm_reduced)\n",
    "fpr2, tpr2, _ = roc_curve(y_test, y_scores_DL)\n",
    "\n",
    "plt.plot(fpr1, tpr1, label=f'VF RF (AUC = {auc1:.4f})')\n",
    "plt.plot(fpr2, tpr2, label=f'Connors and Sarkar NN (AUC = {auc2:.4f})')\n",
    "plt.plot([0, 1], [0, 1], 'k--', label='Random Classifier')\n",
    "plt.xlabel('False Positive Rate')\n",
    "plt.ylabel('True Positive Rate')\n",
    "plt.legend()\n",
    "plt.grid()\n",
    "plt.show()"
   ],
   "id": "f9f4319d1d45a353",
   "outputs": [
    {
     "name": "stdout",
     "output_type": "stream",
     "text": [
      "\u001B[1m6250/6250\u001B[0m \u001B[32m━━━━━━━━━━━━━━━━━━━━\u001B[0m\u001B[37m\u001B[0m \u001B[1m4s\u001B[0m 717us/step\n",
      "Variance-Filtered RF AUC: 0.9946\n",
      "Connors and Sarkar NN AUC: 0.9851\n"
     ]
    },
    {
     "data": {
      "text/plain": [
       "<Figure size 640x480 with 1 Axes>"
      ],
      "image/png": "[encoded data removed]"
     },
     "metadata": {},
     "output_type": "display_data"
    }
   ],
   "execution_count": 34
  }
 ],
 "metadata": {
  "kernelspec": {
   "display_name": "Python 3",
   "language": "python",
   "name": "python3"
  },
  "language_info": {
   "codemirror_mode": {
    "name": "ipython",
    "version": 2
   },
   "file_extension": ".py",
   "mimetype": "text/x-python",
   "name": "python",
   "nbconvert_exporter": "python",
   "pygments_lexer": "ipython2",
   "version": "2.7.6"
  }
 },
 "nbformat": 4,
 "nbformat_minor": 5
}
